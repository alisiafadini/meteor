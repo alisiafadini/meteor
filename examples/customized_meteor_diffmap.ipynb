{
 "cells": [
  {
   "cell_type": "markdown",
   "metadata": {},
   "source": [
    "# 📺 Denoise a map with custom inputs\n",
    "\n",
    "This notebook takes you step by step through the same procedure as used by `meteor.diffmap`, but in a notebook. There is one difference: we assume you've got some pre-computed phases that you want to employ, rather than computing phases from a structural model (CIF/PDB)."
   ]
  },
  {
   "cell_type": "code",
   "execution_count": 1,
   "metadata": {},
   "outputs": [],
   "source": [
    "# ruff: noqa: T201\n",
    "\n",
    "import numpy as np\n",
    "import reciprocalspaceship as rs\n",
    "from matplotlib import pyplot as plt\n",
    "\n",
    "from meteor.diffmaps import compute_difference_map, max_negentropy_kweighted_difference_map\n",
    "from meteor.rsmap import Map\n",
    "from meteor.tv import tv_denoise_difference_map\n",
    "from meteor.validate import map_negentropy"
   ]
  },
  {
   "cell_type": "markdown",
   "metadata": {},
   "source": [
    "### 1. Load the data of interest\n",
    "\n",
    "We'll use `scaled-test-data.mtz`, an test/example MTZ provided in this repo. The data come from a real experiment, Fadini _et al._ (**2023**) _J Am Chem Soc_ 145: 15796-15808 (https://doi.org/10.1021/jacs.3c02313), where the authors imaged the cis-trans isomerization of rsEGFP2. The MTZ contains a lot of columns -- we'll ignore most of them and focus on.\n",
    "\n",
    "- the amplitudes and phases for a dark reference dataset\n",
    "- amplitudes for a light-activated dataset"
   ]
  },
  {
   "cell_type": "code",
   "execution_count": 2,
   "metadata": {},
   "outputs": [
    {
     "name": "stdout",
     "output_type": "stream",
     "text": [
      "Index(['F_on', 'SIGF_on', 'F_off', 'SIGF_off', 'FC_nochrom', 'PHIC_nochrom',\n",
      "       'F_on_scaled', 'SIGF_on_scaled', 'F_off_scaled', 'SIGF_off_scaled',\n",
      "       'F_k', 'SIGF_k', 'PHI_k', 'F_TV', 'PHI_TV', 'SIGF_TV', 'F_itTV',\n",
      "       'SIGF_itTV', 'PHI_itTV'],\n",
      "      dtype='object')\n"
     ]
    }
   ],
   "source": [
    "# path is relative to where this notebook usually is in the `meteor` repo\n",
    "mtz_path = \"../test/data/scaled-test-data.mtz\"\n",
    "mtz_dataset = rs.read_mtz(mtz_path)\n",
    "\n",
    "print(mtz_dataset.columns)"
   ]
  },
  {
   "cell_type": "markdown",
   "metadata": {},
   "source": [
    "We'll use the same phase column for both the `native` and `derivative` datasets we're comparing, making the maps we compute isomorphous difference maps. Note that's not a requirement, though!\n",
    "\n",
    "In this case, the phases were computed _omitting_ the chromophore where isomerization was expected, so the results should not be biased by the starting model at all. This is a nice application of a custom phase calculation. But: the same effect could be achieved by passing a model without the chromophore to `meteor.diffmap` 😊."
   ]
  },
  {
   "cell_type": "code",
   "execution_count": 3,
   "metadata": {},
   "outputs": [],
   "source": [
    "native_map = Map(\n",
    "    mtz_dataset,\n",
    "    amplitude_column=\"F_off\",\n",
    "    phase_column=\"PHIC_nochrom\",\n",
    "    uncertainty_column=\"SIGF_off\",\n",
    ")\n",
    "\n",
    "derivative_map = Map(\n",
    "    mtz_dataset,\n",
    "    amplitude_column=\"F_on\",\n",
    "    phase_column=\"PHIC_nochrom\",\n",
    "    uncertainty_column=\"SIGF_on\",\n",
    ")"
   ]
  },
  {
   "cell_type": "code",
   "execution_count": 4,
   "metadata": {},
   "outputs": [
    {
     "name": "stdout",
     "output_type": "stream",
     "text": [
      "initial negentropy: 0.00114\n"
     ]
    }
   ],
   "source": [
    "# for a reference, let's compute a \"vanilla\" difference map to benchmark the initial negentropy\n",
    "vanilla_isomorphous_diffmap = compute_difference_map(derivative_map, native_map)\n",
    "initial_negentropy = map_negentropy(vanilla_isomorphous_diffmap)\n",
    "\n",
    "print(f\"initial negentropy: {initial_negentropy:.5f}\")"
   ]
  },
  {
   "cell_type": "markdown",
   "metadata": {},
   "source": [
    "### 2. Compute a _k_-weighted difference map\n",
    "\n",
    "Now, we'll compute a _k_-weighted difference map, varying the _k_-parameter to maximize the difference map negentropy."
   ]
  },
  {
   "cell_type": "code",
   "execution_count": 5,
   "metadata": {},
   "outputs": [
    {
     "name": "stdout",
     "output_type": "stream",
     "text": [
      "optimal k-parameter: 0.01, negentropy: 0.00127\n"
     ]
    }
   ],
   "source": [
    "k_weighted_diffmap, kweight_parameter = max_negentropy_kweighted_difference_map(\n",
    "    derivative_map, native_map\n",
    ")\n",
    "kewighted_negentropy = map_negentropy(k_weighted_diffmap)\n",
    "\n",
    "print(f\"optimal k-parameter: {kweight_parameter}, negentropy: {kewighted_negentropy:.5f}\")"
   ]
  },
  {
   "cell_type": "markdown",
   "metadata": {},
   "source": [
    "### 3. TV denoise the map\n",
    "\n",
    "Finally, the main event, the entreé! Let's improve our _k_-weighted map by TV-denoising it."
   ]
  },
  {
   "cell_type": "code",
   "execution_count": 6,
   "metadata": {},
   "outputs": [],
   "source": [
    "tv_denosied_map, metadata = tv_denoise_difference_map(k_weighted_diffmap, full_output=True)"
   ]
  },
  {
   "cell_type": "markdown",
   "metadata": {},
   "source": [
    "We can inspect the run `metadata` to observe the optimization in progress -- the Golden section method should nicely sample the region around the maximum more densely."
   ]
  },
  {
   "cell_type": "code",
   "execution_count": 7,
   "metadata": {},
   "outputs": [
    {
     "data": {
      "image/png": "[encoded data removed]",
      "text/plain": [
       "<Figure size 800x300 with 1 Axes>"
      ]
     },
     "metadata": {},
     "output_type": "display_data"
    }
   ],
   "source": [
    "plt.figure(figsize=(8, 3))\n",
    "\n",
    "plt.xlabel(\"TV weight\")\n",
    "plt.ylabel(\"map negentropy\")\n",
    "plt.xscale(\"log\")\n",
    "\n",
    "# points are not sampled in order of increasing TV weight, so we have to order them\n",
    "sort_order = np.argsort(metadata.tv_weights_scanned)\n",
    "plt.plot(\n",
    "    np.array(metadata.tv_weights_scanned)[sort_order],\n",
    "    np.array(metadata.negentropy_at_weights)[sort_order],\n",
    ")\n",
    "\n",
    "plt.scatter(\n",
    "    metadata.tv_weights_scanned,\n",
    "    metadata.negentropy_at_weights,\n",
    "    edgecolors=\"darkblue\",\n",
    "    linewidths=1,\n",
    "    alpha=0.7,\n",
    ")\n",
    "\n",
    "plt.hlines(metadata.initial_negentropy, 0, 0.05, color=\"black\", linestyle=\"dashed\")\n",
    "plt.vlines(metadata.optimal_tv_weight, -0.01, 0.10, color=\"black\", linestyle=\"dashed\")\n",
    "plt.ylim([0, 0.10])\n",
    "\n",
    "plt.show()"
   ]
  },
  {
   "cell_type": "markdown",
   "metadata": {},
   "source": [
    "### 4. Write out the results\n",
    "\n",
    "Awesome! Now we have a fancy new diffmap, which we probably want to save so we can do something with it. Like fire up Coot and check it out. If you are curious, the PDB ID corresponding to this dataset is `8a6g`, and you can find a copy of the structure as a PDB file in this repository:\n",
    "\n",
    "> `../test/data/8a6g.pdb`"
   ]
  },
  {
   "cell_type": "code",
   "execution_count": 8,
   "metadata": {},
   "outputs": [],
   "source": [
    "tv_denosied_map.write_mtz(\"my_denoised_diffmap.mtz\")"
   ]
  }
 ],
 "metadata": {
  "kernelspec": {
   "display_name": "rstest",
   "language": "python",
   "name": "python3"
  },
  "language_info": {
   "codemirror_mode": {
    "name": "ipython",
    "version": 3
   },
   "file_extension": ".py",
   "mimetype": "text/x-python",
   "name": "python",
   "nbconvert_exporter": "python",
   "pygments_lexer": "ipython3",
   "version": "3.12.0"
  }
 },
 "nbformat": 4,
 "nbformat_minor": 2
}
